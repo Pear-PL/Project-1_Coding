{
  "nbformat": 4,
  "nbformat_minor": 0,
  "metadata": {
    "colab": {
      "provenance": [],
      "include_colab_link": true
    },
    "kernelspec": {
      "name": "python3",
      "display_name": "Python 3"
    },
    "language_info": {
      "name": "python"
    }
  },
  "cells": [
    {
      "cell_type": "markdown",
      "metadata": {
        "id": "view-in-github",
        "colab_type": "text"
      },
      "source": [
        "<a href=\"https://colab.research.google.com/github/Pear-PL/Project-1_Coding/blob/main/31_pear.ipynb\" target=\"_parent\"><img src=\"https://colab.research.google.com/assets/colab-badge.svg\" alt=\"Open In Colab\"/></a>"
      ]
    },
    {
      "cell_type": "markdown",
      "source": [
        "เลขที่ 31 แพร สุพิชญา เกิดทอง\n",
        "No.31 Pear Suphitchaya Kerdthong"
      ],
      "metadata": {
        "id": "B_XxPZ6ocVzH"
      }
    },
    {
      "cell_type": "code",
      "execution_count": null,
      "metadata": {
        "id": "BmFl49f6bWCs",
        "colab": {
          "base_uri": "https://localhost:8080/"
        },
        "outputId": "8d22d4db-36d5-49c4-bbb4-2d4653ff369d"
      },
      "outputs": [
        {
          "output_type": "stream",
          "name": "stdout",
          "text": [
            "Hello teacher! It's just me Pear. Nice to see you again.\n"
          ]
        }
      ],
      "source": [
        "print(\"Hello teacher! It's just me Pear. Nice to see you again.\")"
      ]
    },
    {
      "cell_type": "code",
      "source": [
        "a = 2\n",
        "b = 3\n",
        "print(str(a)  +  \"× \"  +  str(b) +  \"=\"  +  str(a*b))"
      ],
      "metadata": {
        "colab": {
          "base_uri": "https://localhost:8080/"
        },
        "id": "oXUw8ae7OX0R",
        "outputId": "242fda58-7a67-4ee6-f3e0-a4c214a9f036"
      },
      "execution_count": null,
      "outputs": [
        {
          "output_type": "stream",
          "name": "stdout",
          "text": [
            "2× 3=6\n"
          ]
        }
      ]
    },
    {
      "cell_type": "markdown",
      "source": [
        "29 / 05 / 67\n",
        "สรุปความรู้วันนี้\n",
        "1.   สามารถรู้ประเภทของตัวแปร (ข้อมูล) ที่เรากำหนดได้โดยการใช้คำสั่ง \" type \" จากนั้นรันโค้ดเพื่อดูผลลัพธ์\n",
        "2.   เราสามารถสร้างตัวแปรได้ โดยที่ตัวแปรจะต้องขึ้นต้นด้วยตัวอักษรเท่านั้น สามารถเป็นได้ทั้งตัวพิมพ์ใหญ่และตัวพิมพ์เล็กแต่ต้องเป็นภาษาอังกฤษเท่านั้น ไม่สามารถใช้เป็นตัวเลขหรือตัวอักษรภาษาไทยได้ และมีการเว้นวรรคไม่ได้\n",
        "\n"
      ],
      "metadata": {
        "id": "pFuPOSKuZMVR"
      }
    },
    {
      "cell_type": "code",
      "source": [
        "a = 2\n",
        "b = 1.5\n",
        "c = \"Pear\"\n",
        "\n",
        "type(c)\n",
        "\n",
        "print(\"ตัวแปรที่ฉันคิด คือ subject\")"
      ],
      "metadata": {
        "colab": {
          "base_uri": "https://localhost:8080/"
        },
        "id": "hlOKj2-sZMLB",
        "outputId": "2e6301ea-a6a5-43f3-98b2-3ebd6699dc19"
      },
      "execution_count": null,
      "outputs": [
        {
          "output_type": "execute_result",
          "data": {
            "text/plain": [
              "str"
            ]
          },
          "metadata": {},
          "execution_count": 6
        }
      ]
    },
    {
      "cell_type": "code",
      "source": [
        "numeric1 = 5\n",
        "print (numeric1)\n",
        "type(numeric1)"
      ],
      "metadata": {
        "colab": {
          "base_uri": "https://localhost:8080/"
        },
        "id": "t-YemBsIkSi_",
        "outputId": "8d0bb8ce-c203-456d-97da-907aa7c1b626"
      },
      "execution_count": null,
      "outputs": [
        {
          "output_type": "stream",
          "name": "stdout",
          "text": [
            "5\n"
          ]
        },
        {
          "output_type": "execute_result",
          "data": {
            "text/plain": [
              "int"
            ]
          },
          "metadata": {},
          "execution_count": 8
        }
      ]
    },
    {
      "cell_type": "markdown",
      "source": [
        "05 / 06 / 67\n",
        "\n",
        "  index\n",
        "1.   index เป็นการเข้าถึงลำดับ มีการนับตัวเลขเริ่มที่ 0 จากข้างหน้า และนับด้วย -1 จากข้างหลัง\n",
        "2.   เราสามารถพิมพ์คำสั่ง print(ตัวแปร[ตัวเลข]) เพื่อรู้ว่าตัวอักษรที่ index เป็นค่าตัวเลขที่เรากำหนดมาคือตัวไหน เช่น คำว่า \"Pear\" ตัวอักษรที่ index เป็น 1 คือ e\n",
        "\n",
        "input คือ\n",
        "การเขียนโค้ด string กำหนดให้ตัวแปรเท่ากับ Python และใช้คำสั่ง print(string1[0]) เพื่อรู้ index\n",
        "\n",
        "process คือ\n",
        "การกดรันโค้ด ให้มีการประมวนผลของโค้ด\n",
        "\n",
        "output คือ\n",
        "การที่รันโค้ดแล้วแสดงผลออกมาเป็น P เพราะมีการเขียนคำสั่งที่ กำหนดให้แสดงผลตัวอักษรที่ index เท่ากับ 0 นั่นคือ P\n"
      ],
      "metadata": {
        "id": "iIMsyVtcWhjP"
      }
    },
    {
      "cell_type": "code",
      "source": [
        "string1=\"Python\"\n",
        "print(string1[0])"
      ],
      "metadata": {
        "colab": {
          "base_uri": "https://localhost:8080/"
        },
        "id": "85iUFrTxYbEu",
        "outputId": "57cd44ec-073b-44f2-cf25-8aa94ce38ef5"
      },
      "execution_count": null,
      "outputs": [
        {
          "output_type": "stream",
          "name": "stdout",
          "text": [
            "P\n"
          ]
        }
      ]
    },
    {
      "cell_type": "markdown",
      "source": [
        "26 / 06 / 67"
      ],
      "metadata": {
        "id": "HVq3UwigtyAq"
      }
    },
    {
      "cell_type": "code",
      "source": [
        "name = input(\"กรุณาพิมพ์ชื่อ \")\n",
        "print(\"สวัสดีคุณ\",name)"
      ],
      "metadata": {
        "colab": {
          "base_uri": "https://localhost:8080/"
        },
        "id": "OEAEX1G7wtqg",
        "outputId": "476512c3-a875-48a1-eaaf-ac50cbf61af2"
      },
      "execution_count": null,
      "outputs": [
        {
          "output_type": "stream",
          "name": "stdout",
          "text": [
            "กรุณาพิมพ์ชื่อ แพร\n",
            "สวัสดีคุณ แพร\n"
          ]
        }
      ]
    },
    {
      "cell_type": "code",
      "source": [
        "side = int(input(\"ความยาวด้าน (ซม.)  คือ \"))\n",
        "area = side * side\n",
        "print(\"พื้นที่สี่เหลี่ยม เท่ากับ\" ,area,\"ตร.ซม. \")"
      ],
      "metadata": {
        "colab": {
          "base_uri": "https://localhost:8080/"
        },
        "id": "-gEhgUywy_KW",
        "outputId": "13fd61d9-e593-4970-97f2-d849ea707d3c"
      },
      "execution_count": null,
      "outputs": [
        {
          "output_type": "stream",
          "name": "stdout",
          "text": [
            "ความยาวด้าน (ซม.)  คือ 5\n",
            "พื้นที่สี่เหลี่ยม เท่ากับ 25 ตร.ซม. \n"
          ]
        }
      ]
    },
    {
      "cell_type": "code",
      "source": [
        "wide = int(input(\"ความกว้าง (ซม.) คือ \"))\n",
        "long = int(input(\"ความยาว (ซม.) คือ \"))\n",
        "area = wide * long\n",
        "print(\"พื้นที่สี่เหลี่ยมผืนผ้า เท่ากับ\" ,area, \"ตร.ซม. \")"
      ],
      "metadata": {
        "colab": {
          "base_uri": "https://localhost:8080/"
        },
        "id": "fbfMgWMkP9G3",
        "outputId": "9a448b26-de87-4849-85e8-eda0fa0a4d93"
      },
      "execution_count": null,
      "outputs": [
        {
          "output_type": "stream",
          "name": "stdout",
          "text": [
            "ความกว้าง (ซม.) คือ 5\n",
            "ความยาว (ซม.) คือ 10\n",
            "พื้นที่สี่เหลี่ยมผืนผ้า เท่ากับ 50 ตร.ซม. \n"
          ]
        }
      ]
    },
    {
      "cell_type": "code",
      "source": [
        "s = int(input(\"ระยะทาง (เมตร) คือ \"))\n",
        "t = int(input(\"เวลา (วินาที) คือ \"))\n",
        "v = s / t\n",
        "print(\"ความเร็ว เท่ากับ\" ,v, \"m/s \" )"
      ],
      "metadata": {
        "colab": {
          "base_uri": "https://localhost:8080/"
        },
        "id": "kPzOIFusR52W",
        "outputId": "50a69fa2-a81b-4f2d-a31c-133400d4d6eb"
      },
      "execution_count": null,
      "outputs": [
        {
          "output_type": "stream",
          "name": "stdout",
          "text": [
            "ระยะทาง (เมตร) คือ 20\n",
            "เวลา (วินาที) คือ 2\n",
            "ความเร็ว เท่ากับ 10.0 m/s \n"
          ]
        }
      ]
    },
    {
      "cell_type": "markdown",
      "source": [
        "01 / 07 / 67"
      ],
      "metadata": {
        "id": "3BAJe57sT4YF"
      }
    },
    {
      "cell_type": "code",
      "source": [
        "print(\" $$$ โปรแกรมคำนวณดัชนีมวลกาย  by  Just Me Pear $$$ \")\n",
        "name = input(\"กรุณากรอกชื่อของคุณ \")\n",
        "print(\"สวัสดี ยินดีต้อนรับคุณ \",name,)\n",
        "weight = float(input(\"น้ำหนัก (กก.) คือ \"))\n",
        "height = float(input(\"ส่วนสูง (เมตร) คือ \"))\n",
        "BMI = weight / height**2\n",
        "print(\"ค่าดัชนีมวลกายของคุณ เท่ากับ \", BMI ,)\n"
      ],
      "metadata": {
        "colab": {
          "base_uri": "https://localhost:8080/"
        },
        "outputId": "76efd33c-9d2a-43ea-b297-2a48d18d74f0",
        "id": "GjPOw27Ub3dx"
      },
      "execution_count": null,
      "outputs": [
        {
          "output_type": "stream",
          "name": "stdout",
          "text": [
            " $$$ โปรแกรมคำนวณดัชนีมวลกาย  by  Just Me Pear $$$ \n",
            "กรุณากรอกชื่อของคุณ มิ้น\n",
            "สวัสดี ยินดีต้อนรับคุณ  มิ้น\n",
            "น้ำหนัก (กก.) คือ 56\n",
            "ส่วนสูง (เมตร) คือ 1.6\n",
            "ค่าดัชนีมวลกายของคุณ เท่ากับ  21.874999999999996\n"
          ]
        }
      ]
    },
    {
      "cell_type": "code",
      "source": [
        "incidence = int(input(\"กรอกค่ามุมตกกระทบ\"))\n",
        "if incidence > 90 :\n",
        "     print(\"มุมเกิน\")\n",
        "else :\n",
        "   reflection = incidence\n",
        "   print(\"มุมสะท้อนเท่ากับ\",reflection,)\n"
      ],
      "metadata": {
        "colab": {
          "base_uri": "https://localhost:8080/"
        },
        "id": "x80vcDwa8ReI",
        "outputId": "8802d94d-b700-47ba-e498-ad406fb747c2"
      },
      "execution_count": null,
      "outputs": [
        {
          "output_type": "stream",
          "name": "stdout",
          "text": [
            "กรอกค่ามุมตกกระทบ88\n",
            "มุมสะท้อนเท่ากับ 88\n"
          ]
        }
      ]
    },
    {
      "cell_type": "markdown",
      "source": [
        "14 / 01 / 68\n",
        "Suphitchaya Kerdthong (Pear) 31 \\\\\n",
        "Function : Volume of Cylinder"
      ],
      "metadata": {
        "id": "qJtM74WT1pse"
      }
    },
    {
      "cell_type": "code",
      "source": [
        "def Volume_Cylinder (r, h) :\n",
        "  Volume_Cylinder = 3.14 * r**2 * h\n",
        "  print(\"Volume of Cylinder is \", '%.2f' %Volume_Cylinder)\n",
        "\n",
        "Volume_Cylinder(7, 14)"
      ],
      "metadata": {
        "colab": {
          "base_uri": "https://localhost:8080/"
        },
        "id": "3eSFVjvI1ynK",
        "outputId": "490b68bc-9832-4838-85e7-554ded933290"
      },
      "execution_count": null,
      "outputs": [
        {
          "output_type": "stream",
          "name": "stdout",
          "text": [
            "Volume of Cylinder is  2154.04\n"
          ]
        }
      ]
    }
  ]
}